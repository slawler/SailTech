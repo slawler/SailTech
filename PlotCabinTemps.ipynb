{
 "cells": [
  {
   "cell_type": "code",
   "execution_count": null,
   "metadata": {
    "collapsed": false
   },
   "outputs": [],
   "source": [
    "#Import Libraries\n",
    "% matplotlib notebook\n",
    "import numpy as np\n",
    "from scipy import interpolate\n",
    "import pandas as pd\n",
    "from datetime import datetime\n",
    "\n",
    "#---Data Source & Header info    \n",
    "url = 'https://raw.githubusercontent.com/slawler/PegasusLogs/master/Temperature/Temperature.log'\n",
    "cols = ['time','sensor', 'obs']    \n",
    "\n",
    "#Read & Format Data Table\n",
    "def Observations_Table():\n",
    "    df= pd.read_csv(url, header = None, sep = '\\t' ,names = cols)\n",
    "    df= df.set_index(pd.to_datetime(df['time'],format = '%d.%Y.%m %H:%M:%S'))\n",
    "    df.drop(labels='time',axis=1, inplace= True)\n",
    "    df = df.groupby([pd.TimeGrouper('{}min'.format(5)), 'sensor']).agg({'obs': np.mean})\n",
    "    df = df.unstack()\n",
    "    df.columns = df.columns.droplevel()\n",
    "    df =df.resample('10min').mean()\n",
    "    df = df.interpolate(method = 'cubic')\n",
    "    df['4: Main Cabin'] = df[4]\n",
    "    df['5: Engine Compartment'] = df[5]\n",
    "    df['8: Forward Water Tank'] = df[8]\n",
    "    df.drop(labels = [4,5,8],axis=1,inplace =True )\n",
    "    return df\n",
    "\n",
    "\n",
    "#Plot Data\n",
    "def Plot_Maker(df):\n",
    "    import matplotlib.pyplot as plt\n",
    "    fig = df.plot()\n",
    "    plt.title('Pegasus Temperature Log'+ '\\n Begining {}'.format(df.index[0]))\n",
    "    plt.ylabel('Temperature (C)')\n",
    "    plt.xlabel('Time')\n",
    "    plt.grid(True)\n",
    "    y_min = df.min().mean()*0.6\n",
    "    y_max = df.max().mean()*1.8\n",
    "    plt.ylim((y_min,y_max))\n",
    "    \n",
    "\n",
    "df = Observations_Table()\n",
    "p = Plot_Maker(df)\n",
    "\n",
    "#mins, maxes = df.min().round(), df.max().round()\n",
    "#print ('Maximum Temperatures: \\n','\\t', maxes)\n",
    "#print ('\\nMinimum Temperatures: \\n', '\\t',mins)\n"
   ]
  }
 ],
 "metadata": {
  "anaconda-cloud": {},
  "kernelspec": {
   "display_name": "Python [default]",
   "language": "python",
   "name": "python3"
  },
  "language_info": {
   "codemirror_mode": {
    "name": "ipython",
    "version": 3
   },
   "file_extension": ".py",
   "mimetype": "text/x-python",
   "name": "python",
   "nbconvert_exporter": "python",
   "pygments_lexer": "ipython3",
   "version": "3.5.2"
  }
 },
 "nbformat": 4,
 "nbformat_minor": 1
}
